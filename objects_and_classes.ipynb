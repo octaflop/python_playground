{
 "cells": [
  {
   "cell_type": "markdown",
   "metadata": {},
   "source": [
    "# Objects and Classes in Python"
   ]
  },
  {
   "cell_type": "code",
   "execution_count": 2,
   "metadata": {},
   "outputs": [],
   "source": [
    "class Desk:\n",
    "    available_seats = 1\n",
    "    capacity = 1\n",
    "    width = 30\n",
    "    height = 5\n",
    "    length = 20\n",
    "    \n",
    "    def book_desk(self):\n",
    "        self.available_seats = self.available_seats - 1"
   ]
  },
  {
   "cell_type": "code",
   "execution_count": 3,
   "metadata": {},
   "outputs": [],
   "source": [
    "d = Desk()"
   ]
  },
  {
   "cell_type": "code",
   "execution_count": 4,
   "metadata": {},
   "outputs": [
    {
     "data": {
      "text/plain": [
       "1"
      ]
     },
     "execution_count": 4,
     "metadata": {},
     "output_type": "execute_result"
    }
   ],
   "source": [
    "d.available_seats"
   ]
  },
  {
   "cell_type": "code",
   "execution_count": 5,
   "metadata": {},
   "outputs": [
    {
     "data": {
      "text/plain": [
       "1"
      ]
     },
     "execution_count": 5,
     "metadata": {},
     "output_type": "execute_result"
    }
   ],
   "source": [
    "d.capacity"
   ]
  },
  {
   "cell_type": "code",
   "execution_count": 7,
   "metadata": {},
   "outputs": [],
   "source": [
    "d.book_desk()\n"
   ]
  },
  {
   "cell_type": "code",
   "execution_count": 8,
   "metadata": {},
   "outputs": [
    {
     "data": {
      "text/plain": [
       "0"
      ]
     },
     "execution_count": 8,
     "metadata": {},
     "output_type": "execute_result"
    }
   ],
   "source": [
    "d.available_seats"
   ]
  },
  {
   "cell_type": "code",
   "execution_count": 12,
   "metadata": {},
   "outputs": [],
   "source": [
    "Desk.available_seats = 5"
   ]
  },
  {
   "cell_type": "code",
   "execution_count": 13,
   "metadata": {},
   "outputs": [],
   "source": [
    "dylans_desk = Desk()"
   ]
  },
  {
   "cell_type": "code",
   "execution_count": 14,
   "metadata": {},
   "outputs": [
    {
     "data": {
      "text/plain": [
       "5"
      ]
     },
     "execution_count": 14,
     "metadata": {},
     "output_type": "execute_result"
    }
   ],
   "source": [
    "dylans_desk.available_seats"
   ]
  },
  {
   "cell_type": "code",
   "execution_count": 20,
   "metadata": {},
   "outputs": [],
   "source": [
    "class Desk:\n",
    "    def __init__(self, available_seats=1):\n",
    "        self.available_seats = available_seats\n",
    "        capacity = 1\n",
    "        width = 30\n",
    "        height = 5\n",
    "        length = 20\n",
    "    \n",
    "    def book_desk(self):\n",
    "        self.available_seats = self.available_seats - 1"
   ]
  },
  {
   "cell_type": "code",
   "execution_count": 17,
   "metadata": {},
   "outputs": [],
   "source": [
    "dylans_desk = Desk(available_seats=20)"
   ]
  },
  {
   "cell_type": "code",
   "execution_count": 18,
   "metadata": {},
   "outputs": [
    {
     "data": {
      "text/plain": [
       "20"
      ]
     },
     "execution_count": 18,
     "metadata": {},
     "output_type": "execute_result"
    }
   ],
   "source": [
    "dylans_desk.available_seats"
   ]
  },
  {
   "cell_type": "code",
   "execution_count": 21,
   "metadata": {},
   "outputs": [],
   "source": [
    "dylans_desk = Desk()"
   ]
  },
  {
   "cell_type": "code",
   "execution_count": 22,
   "metadata": {},
   "outputs": [
    {
     "data": {
      "text/plain": [
       "1"
      ]
     },
     "execution_count": 22,
     "metadata": {},
     "output_type": "execute_result"
    }
   ],
   "source": [
    "dylans_desk.available_seats"
   ]
  },
  {
   "cell_type": "code",
   "execution_count": 31,
   "metadata": {},
   "outputs": [],
   "source": [
    "class Room:\n",
    "    def __init__(self, capacity=5):\n",
    "        self.available_seats = capacity\n",
    "        self.capacity = capacity\n",
    "        self.width = 300\n",
    "        self.height = 50\n",
    "        self.length = 200\n",
    "    \n",
    "    def get_booked_seats(self):\n",
    "        return self.capacity - self.available_seats\n",
    "\n",
    "    def get_seats_left(self):\n",
    "        return self.available_seats\n",
    "    \n",
    "    def book_chair(self):\n",
    "        if self.available_seats < 1:\n",
    "            raise ValueError('No more seats available!')\n",
    "        self.available_seats = self.available_seats - 1\n",
    "    \n",
    "    def unbook_chair(self):\n",
    "        if self.available_seats == self.capacity:\n",
    "            return\n",
    "        self.available_seats += 1\n",
    "    \n",
    "    def book_room(self):\n",
    "        self.available_seats = 0"
   ]
  },
  {
   "cell_type": "code",
   "execution_count": 100,
   "metadata": {},
   "outputs": [],
   "source": [
    "class Physics:\n",
    "    def __init__(self):\n",
    "        self.gravity = 9.8\n",
    "\n",
    "class Space(Physics):\n",
    "    def __init__(self, capacity=5):\n",
    "        self.available_seats = capacity\n",
    "        self.capacity = capacity\n",
    "        self.width = 300\n",
    "        self.length = 200\n",
    "        self._id = 120398\n",
    "    \n",
    "    def get_booked_seats(self):\n",
    "        return self.capacity - self.available_seats\n",
    "\n",
    "    @property\n",
    "    def get_seats_left(self):\n",
    "        return self.available_seats\n",
    "    \n",
    "    def book_chair(self):\n",
    "        if self.available_seats < 1:\n",
    "            raise ValueError('No more seats available!')\n",
    "        self.available_seats = self.available_seats - 1\n",
    "    \n",
    "    def unbook_chair(self):\n",
    "        if self.available_seats == self.capacity:\n",
    "            return\n",
    "        self.available_seats += 1\n",
    "    \n",
    "    def book(self):\n",
    "        self.available_seats = 0"
   ]
  },
  {
   "cell_type": "code",
   "execution_count": 101,
   "metadata": {},
   "outputs": [],
   "source": [
    "class Room(Space):\n",
    "    def __init__(self, capacity=10):\n",
    "        Space.__init__(self, capacity=capacity)\n",
    "        self.available_seats = capacity\n",
    "        self.capacity = capacity\n",
    "        self.width = 30\n",
    "    \n",
    "    @property\n",
    "    def height(self):\n",
    "        return self.width * 2\n",
    "\n",
    "        \n",
    "class Desk(Space):\n",
    "    def __init__(self):\n",
    "        super().__init__(capacity=1)\n",
    "        self.width = 3\n",
    "        self.length = 3"
   ]
  },
  {
   "cell_type": "code",
   "execution_count": 102,
   "metadata": {},
   "outputs": [
    {
     "data": {
      "text/plain": [
       "60"
      ]
     },
     "execution_count": 102,
     "metadata": {},
     "output_type": "execute_result"
    }
   ],
   "source": [
    "r = Room()\n",
    "d = Desk()\n",
    "r.height"
   ]
  },
  {
   "cell_type": "code",
   "execution_count": 72,
   "metadata": {},
   "outputs": [
    {
     "data": {
      "text/plain": [
       "1"
      ]
     },
     "execution_count": 72,
     "metadata": {},
     "output_type": "execute_result"
    }
   ],
   "source": [
    "d.unbook_chair()\n",
    "d.available_seats"
   ]
  },
  {
   "cell_type": "code",
   "execution_count": 89,
   "metadata": {},
   "outputs": [
    {
     "data": {
      "text/plain": [
       "1"
      ]
     },
     "execution_count": 89,
     "metadata": {},
     "output_type": "execute_result"
    }
   ],
   "source": [
    "d.get_seats_left"
   ]
  },
  {
   "cell_type": "code",
   "execution_count": 74,
   "metadata": {},
   "outputs": [
    {
     "data": {
      "text/plain": [
       "10"
      ]
     },
     "execution_count": 74,
     "metadata": {},
     "output_type": "execute_result"
    }
   ],
   "source": [
    "r.get_seats_left()"
   ]
  },
  {
   "cell_type": "code",
   "execution_count": 82,
   "metadata": {},
   "outputs": [
    {
     "data": {
      "text/plain": [
       "['__class__',\n",
       " '__delattr__',\n",
       " '__dict__',\n",
       " '__dir__',\n",
       " '__doc__',\n",
       " '__eq__',\n",
       " '__format__',\n",
       " '__ge__',\n",
       " '__getattribute__',\n",
       " '__gt__',\n",
       " '__hash__',\n",
       " '__init__',\n",
       " '__init_subclass__',\n",
       " '__le__',\n",
       " '__lt__',\n",
       " '__module__',\n",
       " '__ne__',\n",
       " '__new__',\n",
       " '__reduce__',\n",
       " '__reduce_ex__',\n",
       " '__repr__',\n",
       " '__setattr__',\n",
       " '__sizeof__',\n",
       " '__str__',\n",
       " '__subclasshook__',\n",
       " '__weakref__',\n",
       " 'available_seats',\n",
       " 'book',\n",
       " 'book_chair',\n",
       " 'capacity',\n",
       " 'get_booked_seats',\n",
       " 'get_seats_left',\n",
       " 'height',\n",
       " 'length',\n",
       " 'seats_left',\n",
       " 'unbook_chair',\n",
       " 'width']"
      ]
     },
     "execution_count": 82,
     "metadata": {},
     "output_type": "execute_result"
    }
   ],
   "source": [
    "dir(r)"
   ]
  },
  {
   "cell_type": "markdown",
   "metadata": {},
   "source": [
    "### References\n",
    "\n",
    "- [Real Python](https://realpython.com/python3-object-oriented-programming/)\n",
    "- [Super Considered Super](https://rhettinger.wordpress.com/2011/05/26/super-considered-super/)"
   ]
  },
  {
   "cell_type": "code",
   "execution_count": null,
   "metadata": {},
   "outputs": [],
   "source": []
  }
 ],
 "metadata": {
  "kernelspec": {
   "display_name": "Python 3",
   "language": "python",
   "name": "python3"
  },
  "language_info": {
   "codemirror_mode": {
    "name": "ipython",
    "version": 3
   },
   "file_extension": ".py",
   "mimetype": "text/x-python",
   "name": "python",
   "nbconvert_exporter": "python",
   "pygments_lexer": "ipython3",
   "version": "3.7.3"
  }
 },
 "nbformat": 4,
 "nbformat_minor": 4
}
